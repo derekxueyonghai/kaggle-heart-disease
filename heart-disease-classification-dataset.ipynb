{
 "cells": [
  {
   "cell_type": "markdown",
   "id": "8e1c9a65",
   "metadata": {
    "papermill": {
     "duration": 0.007432,
     "end_time": "2023-07-29T02:25:20.349781",
     "exception": false,
     "start_time": "2023-07-29T02:25:20.342349",
     "status": "completed"
    },
    "tags": []
   },
   "source": [
    "# Heart Disease Classification"
   ]
  },
  {
   "cell_type": "markdown",
   "id": "7eb95c1b",
   "metadata": {
    "papermill": {
     "duration": 0.006723,
     "end_time": "2023-07-29T02:25:20.363648",
     "exception": false,
     "start_time": "2023-07-29T02:25:20.356925",
     "status": "completed"
    },
    "tags": []
   },
   "source": [
    "Cardiovascular illnesses (CVDs) are the major cause of death worldwide. CVDs include coronary heart disease, cerebrovascular disease, rheumatic heart disease, and other heart and blood vessel problems. According to the World Health Organization, 17.9 million people die each year. Heart attacks and strokes account for more than four out of every five CVD deaths, with one-third of these deaths occurring before the age of 70. A comprehensive database for factors that contribute to a heart attack has been constructed.\n",
    "\n",
    "The main purpose here is to collect characteristics of Heart Attack or factors that contribute to it.\n",
    "The size of the dataset is 1319 samples, which have nine fields, where eight fields are for input fields and one field for an output field. \n",
    " - age, \n",
    " - gender, \n",
    " - eart rate (impulse), \n",
    " - systolic BP (pressurehight), \n",
    " - diastolic BP (pressurelow), \n",
    " - blood sugar(glucose), \n",
    " - CK-MB (kcm), \n",
    " - and Test-Troponin (troponin) \n",
    "are representing the input fields, while the output field pertains to the presence of \n",
    " - heart attack (class), \n",
    "which is divided into two categories (negative and positive); negative refers to the absence of a heart attack, while positive refers to the presence of a heart attack."
   ]
  },
  {
   "cell_type": "code",
   "execution_count": 1,
   "id": "c8f895ef",
   "metadata": {
    "_cell_guid": "b1076dfc-b9ad-4769-8c92-a6c4dae69d19",
    "_uuid": "8f2839f25d086af736a60e9eeb907d3b93b6e0e5",
    "execution": {
     "iopub.execute_input": "2023-07-29T02:25:20.379870Z",
     "iopub.status.busy": "2023-07-29T02:25:20.379135Z",
     "iopub.status.idle": "2023-07-29T02:25:20.397302Z",
     "shell.execute_reply": "2023-07-29T02:25:20.396252Z"
    },
    "papermill": {
     "duration": 0.029239,
     "end_time": "2023-07-29T02:25:20.399897",
     "exception": false,
     "start_time": "2023-07-29T02:25:20.370658",
     "status": "completed"
    },
    "tags": []
   },
   "outputs": [
    {
     "name": "stdout",
     "output_type": "stream",
     "text": [
      "/kaggle/input/heart-disease-classification-dataset/Heart Attack.csv\n"
     ]
    }
   ],
   "source": [
    "# This Python 3 environment comes with many helpful analytics libraries installed\n",
    "# It is defined by the kaggle/python Docker image: https://github.com/kaggle/docker-python\n",
    "# For example, here's several helpful packages to load\n",
    "\n",
    "import numpy as np # linear algebra\n",
    "import pandas as pd # data processing, CSV file I/O (e.g. pd.read_csv)\n",
    "\n",
    "# Input data files are available in the read-only \"../input/\" directory\n",
    "# For example, running this (by clicking run or pressing Shift+Enter) will list all files under the input directory\n",
    "\n",
    "import os\n",
    "for dirname, _, filenames in os.walk('/kaggle/input'):\n",
    "    for filename in filenames:\n",
    "        print(os.path.join(dirname, filename))\n",
    "\n",
    "# You can write up to 20GB to the current directory (/kaggle/working/) that gets preserved as output when you create a version using \"Save & Run All\" \n",
    "# You can also write temporary files to /kaggle/temp/, but they won't be saved outside of the current session"
   ]
  },
  {
   "cell_type": "code",
   "execution_count": 2,
   "id": "3da88d6c",
   "metadata": {
    "execution": {
     "iopub.execute_input": "2023-07-29T02:25:20.417045Z",
     "iopub.status.busy": "2023-07-29T02:25:20.416289Z",
     "iopub.status.idle": "2023-07-29T02:25:22.620259Z",
     "shell.execute_reply": "2023-07-29T02:25:22.619108Z"
    },
    "papermill": {
     "duration": 2.215428,
     "end_time": "2023-07-29T02:25:22.622844",
     "exception": false,
     "start_time": "2023-07-29T02:25:20.407416",
     "status": "completed"
    },
    "tags": []
   },
   "outputs": [
    {
     "name": "stderr",
     "output_type": "stream",
     "text": [
      "/opt/conda/lib/python3.10/site-packages/scipy/__init__.py:146: UserWarning: A NumPy version >=1.16.5 and <1.23.0 is required for this version of SciPy (detected version 1.23.5\n",
      "  warnings.warn(f\"A NumPy version >={np_minversion} and <{np_maxversion}\"\n"
     ]
    }
   ],
   "source": [
    "import os\n",
    "import pandas as pd\n",
    "import matplotlib.pyplot as plt\n",
    "import seaborn as sns\n",
    "import plotly.express as px"
   ]
  },
  {
   "cell_type": "markdown",
   "id": "6dd8be40",
   "metadata": {
    "papermill": {
     "duration": 0.007243,
     "end_time": "2023-07-29T02:25:22.637840",
     "exception": false,
     "start_time": "2023-07-29T02:25:22.630597",
     "status": "completed"
    },
    "tags": []
   },
   "source": [
    "## Bring in the datasets"
   ]
  },
  {
   "cell_type": "code",
   "execution_count": 3,
   "id": "43b97595",
   "metadata": {
    "execution": {
     "iopub.execute_input": "2023-07-29T02:25:22.655985Z",
     "iopub.status.busy": "2023-07-29T02:25:22.655429Z",
     "iopub.status.idle": "2023-07-29T02:25:22.698204Z",
     "shell.execute_reply": "2023-07-29T02:25:22.697074Z"
    },
    "papermill": {
     "duration": 0.055245,
     "end_time": "2023-07-29T02:25:22.700595",
     "exception": false,
     "start_time": "2023-07-29T02:25:22.645350",
     "status": "completed"
    },
    "tags": []
   },
   "outputs": [
    {
     "data": {
      "text/html": [
       "<div>\n",
       "<style scoped>\n",
       "    .dataframe tbody tr th:only-of-type {\n",
       "        vertical-align: middle;\n",
       "    }\n",
       "\n",
       "    .dataframe tbody tr th {\n",
       "        vertical-align: top;\n",
       "    }\n",
       "\n",
       "    .dataframe thead th {\n",
       "        text-align: right;\n",
       "    }\n",
       "</style>\n",
       "<table border=\"1\" class=\"dataframe\">\n",
       "  <thead>\n",
       "    <tr style=\"text-align: right;\">\n",
       "      <th></th>\n",
       "      <th>age</th>\n",
       "      <th>gender</th>\n",
       "      <th>impluse</th>\n",
       "      <th>pressurehight</th>\n",
       "      <th>pressurelow</th>\n",
       "      <th>glucose</th>\n",
       "      <th>kcm</th>\n",
       "      <th>troponin</th>\n",
       "      <th>class</th>\n",
       "    </tr>\n",
       "  </thead>\n",
       "  <tbody>\n",
       "    <tr>\n",
       "      <th>0</th>\n",
       "      <td>64</td>\n",
       "      <td>1</td>\n",
       "      <td>66</td>\n",
       "      <td>160</td>\n",
       "      <td>83</td>\n",
       "      <td>160.0</td>\n",
       "      <td>1.80</td>\n",
       "      <td>0.012</td>\n",
       "      <td>negative</td>\n",
       "    </tr>\n",
       "    <tr>\n",
       "      <th>1</th>\n",
       "      <td>21</td>\n",
       "      <td>1</td>\n",
       "      <td>94</td>\n",
       "      <td>98</td>\n",
       "      <td>46</td>\n",
       "      <td>296.0</td>\n",
       "      <td>6.75</td>\n",
       "      <td>1.060</td>\n",
       "      <td>positive</td>\n",
       "    </tr>\n",
       "    <tr>\n",
       "      <th>2</th>\n",
       "      <td>55</td>\n",
       "      <td>1</td>\n",
       "      <td>64</td>\n",
       "      <td>160</td>\n",
       "      <td>77</td>\n",
       "      <td>270.0</td>\n",
       "      <td>1.99</td>\n",
       "      <td>0.003</td>\n",
       "      <td>negative</td>\n",
       "    </tr>\n",
       "    <tr>\n",
       "      <th>3</th>\n",
       "      <td>64</td>\n",
       "      <td>1</td>\n",
       "      <td>70</td>\n",
       "      <td>120</td>\n",
       "      <td>55</td>\n",
       "      <td>270.0</td>\n",
       "      <td>13.87</td>\n",
       "      <td>0.122</td>\n",
       "      <td>positive</td>\n",
       "    </tr>\n",
       "    <tr>\n",
       "      <th>4</th>\n",
       "      <td>55</td>\n",
       "      <td>1</td>\n",
       "      <td>64</td>\n",
       "      <td>112</td>\n",
       "      <td>65</td>\n",
       "      <td>300.0</td>\n",
       "      <td>1.08</td>\n",
       "      <td>0.003</td>\n",
       "      <td>negative</td>\n",
       "    </tr>\n",
       "  </tbody>\n",
       "</table>\n",
       "</div>"
      ],
      "text/plain": [
       "   age  gender  impluse  pressurehight  pressurelow  glucose    kcm  troponin  \\\n",
       "0   64       1       66            160           83    160.0   1.80     0.012   \n",
       "1   21       1       94             98           46    296.0   6.75     1.060   \n",
       "2   55       1       64            160           77    270.0   1.99     0.003   \n",
       "3   64       1       70            120           55    270.0  13.87     0.122   \n",
       "4   55       1       64            112           65    300.0   1.08     0.003   \n",
       "\n",
       "      class  \n",
       "0  negative  \n",
       "1  positive  \n",
       "2  negative  \n",
       "3  positive  \n",
       "4  negative  "
      ]
     },
     "execution_count": 3,
     "metadata": {},
     "output_type": "execute_result"
    }
   ],
   "source": [
    "heart_source = pd.read_csv('/kaggle/input/heart-disease-classification-dataset/Heart Attack.csv')\n",
    "heart_source.head()\n"
   ]
  },
  {
   "cell_type": "code",
   "execution_count": 4,
   "id": "8dc4d98b",
   "metadata": {
    "execution": {
     "iopub.execute_input": "2023-07-29T02:25:22.717550Z",
     "iopub.status.busy": "2023-07-29T02:25:22.717158Z",
     "iopub.status.idle": "2023-07-29T02:25:22.731036Z",
     "shell.execute_reply": "2023-07-29T02:25:22.729998Z"
    },
    "papermill": {
     "duration": 0.02501,
     "end_time": "2023-07-29T02:25:22.733253",
     "exception": false,
     "start_time": "2023-07-29T02:25:22.708243",
     "status": "completed"
    },
    "tags": []
   },
   "outputs": [
    {
     "data": {
      "text/plain": [
       "1    870\n",
       "0    449\n",
       "Name: gender, dtype: int64"
      ]
     },
     "execution_count": 4,
     "metadata": {},
     "output_type": "execute_result"
    }
   ],
   "source": [
    "# gender count\n",
    "gender_count = heart_source.gender.value_counts()\n",
    "gender_count"
   ]
  },
  {
   "cell_type": "code",
   "execution_count": 5,
   "id": "82b650c0",
   "metadata": {
    "execution": {
     "iopub.execute_input": "2023-07-29T02:25:22.750623Z",
     "iopub.status.busy": "2023-07-29T02:25:22.750249Z",
     "iopub.status.idle": "2023-07-29T02:25:24.427005Z",
     "shell.execute_reply": "2023-07-29T02:25:24.426249Z"
    },
    "papermill": {
     "duration": 1.687775,
     "end_time": "2023-07-29T02:25:24.429070",
     "exception": false,
     "start_time": "2023-07-29T02:25:22.741295",
     "status": "completed"
    },
    "tags": []
   },
   "outputs": [
    {
     "data": {
      "text/html": [
       "        <script type=\"text/javascript\">\n",
       "        window.PlotlyConfig = {MathJaxConfig: 'local'};\n",
       "        if (window.MathJax && window.MathJax.Hub && window.MathJax.Hub.Config) {window.MathJax.Hub.Config({SVG: {font: \"STIX-Web\"}});}\n",
       "        if (typeof require !== 'undefined') {\n",
       "        require.undef(\"plotly\");\n",
       "        requirejs.config({\n",
       "            paths: {\n",
       "                'plotly': ['https://cdn.plot.ly/plotly-2.24.1.min']\n",
       "            }\n",
       "        });\n",
       "        require(['plotly'], function(Plotly) {\n",
       "            window._Plotly = Plotly;\n",
       "        });\n",
       "        }\n",
       "        </script>\n",
       "        "
      ]
     },
     "metadata": {},
     "output_type": "display_data"
    },
    {
     "data": {
      "text/html": [
       "<div>                            <div id=\"8eb5a897-5efa-4800-8fa8-faa4723d1bd1\" class=\"plotly-graph-div\" style=\"height:525px; width:100%;\"></div>            <script type=\"text/javascript\">                require([\"plotly\"], function(Plotly) {                    window.PLOTLYENV=window.PLOTLYENV || {};                                    if (document.getElementById(\"8eb5a897-5efa-4800-8fa8-faa4723d1bd1\")) {                    Plotly.newPlot(                        \"8eb5a897-5efa-4800-8fa8-faa4723d1bd1\",                        [{\"alignmentgroup\":\"True\",\"bingroup\":\"x\",\"hovertemplate\":\"variable=age\\u003cbr\\u003evalue=%{x}\\u003cbr\\u003ecount=%{y}\\u003cextra\\u003e\\u003c\\u002fextra\\u003e\",\"legendgroup\":\"age\",\"marker\":{\"color\":\"#636efa\",\"pattern\":{\"shape\":\"\"}},\"name\":\"age\",\"offsetgroup\":\"age\",\"orientation\":\"v\",\"showlegend\":true,\"x\":[64,21,55,64,55,58,32,63,44,67,44,63,64,54,47,61,86,45,37,45,60,48,52,30,50,72,42,72,47,63,54,35,68,56,50,64,65,64,50,34,44,50,50,55,63,58,40,45,46,38,47,40,63,57,28,50,49,29,80,45,47,90,45,45,61,54,62,65,45,46,52,58,61,54,52,57,47,58,50,65,53,80,50,72,62,58,40,45,80,61,65,62,60,60,75,66,40,19,58,77,71,53,43,66,67,51,50,67,59,20,55,36,38,57,45,62,43,66,60,67,65,60,49,60,80,47,45,38,71,60,30,60,70,78,63,57,67,67,56,43,45,50,64,63,60,53,60,44,50,69,45,55,58,50,55,70,70,73,68,41,82,32,57,50,60,67,50,60,46,46,55,55,75,40,45,68,55,50,50,68,60,55,61,51,30,66,62,70,60,78,58,58,46,58,46,63,57,51,50,45,47,75,48,25,48,52,63,60,49,60,52,55,60,65,55,45,67,45,53,67,60,63,55,63,75,63,48,70,44,25,62,50,51,56,55,60,63,45,54,63,36,26,41,65,65,59,57,53,50,72,75,75,68,66,67,76,58,62,62,44,64,52,60,60,53,63,63,33,50,60,61,70,49,38,39,68,41,38,63,54,50,68,53,70,36,65,50,44,63,53,68,63,50,50,58,63,70,91,60,65,42,51,65,41,75,58,42,72,60,58,62,63,60,78,53,49,70,21,50,65,55,26,66,75,45,55,55,86,60,31,34,46,75,62,33,70,53,48,70,75,56,50,56,70,60,29,60,70,50,62,41,69,63,68,63,43,61,55,65,63,56,73,74,55,65,90,65,63,59,78,54,68,59,65,78,62,58,55,78,45,29,50,68,31,53,64,64,68,65,67,60,65,65,66,65,63,50,49,39,61,52,28,66,78,72,52,75,28,80,70,70,74,65,48,55,56,54,63,56,45,41,80,40,80,60,60,21,58,21,44,62,60,63,60,61,65,42,65,60,45,52,59,46,35,64,30,55,50,46,50,58,63,62,71,65,63,43,65,55,65,44,55,45,72,63,63,60,60,70,45,60,75,31,64,41,58,70,62,55,75,77,73,71,70,60,73,63,72,40,40,59,37,42,28,37,41,50,55,53,51,19,59,68,70,69,45,70,55,55,65,52,50,55,42,72,56,60,22,63,52,51,40,70,63,63,49,70,63,47,43,31,50,53,22,42,55,50,53,52,73,55,44,65,60,56,58,72,56,65,32,32,62,50,65,47,55,60,55,35,60,60,50,70,70,51,59,61,70,66,63,71,42,72,68,37,52,68,41,60,37,32,66,60,44,60,52,60,60,42,79,55,52,50,58,60,35,82,29,42,71,55,78,45,73,20,50,47,62,50,74,50,73,56,69,52,22,73,60,73,58,70,65,47,55,54,42,48,45,60,73,61,71,45,72,60,50,60,50,48,58,58,60,34,43,45,47,70,70,51,60,64,70,70,70,43,72,34,35,53,50,60,64,47,81,62,27,53,65,36,60,51,57,58,47,70,74,75,76,63,43,29,60,68,47,75,39,70,78,45,55,55,36,58,60,35,70,69,51,63,65,66,44,34,48,73,83,37,48,42,60,55,47,56,75,60,60,60,70,68,70,49,52,53,36,52,36,40,56,60,53,49,73,60,46,45,65,54,63,59,60,60,29,63,49,70,44,68,24,38,62,80,34,49,49,81,55,48,39,66,73,69,55,45,70,60,70,58,42,58,49,70,76,50,70,40,85,45,67,75,64,50,78,73,86,41,75,55,38,52,74,28,48,40,56,88,70,49,75,56,79,47,53,41,49,70,59,40,70,65,50,70,67,71,38,50,71,60,60,37,72,58,70,70,24,57,57,47,50,70,70,41,72,83,76,41,76,50,63,64,39,30,77,63,60,56,41,43,54,69,60,29,65,57,50,41,65,85,58,75,70,54,63,44,60,49,77,70,75,60,33,60,50,70,65,48,47,48,60,48,48,60,54,60,56,60,60,35,25,71,65,57,56,53,54,66,68,100,23,60,14,57,71,70,51,46,60,49,47,48,85,45,74,51,55,55,54,64,68,27,47,28,41,62,69,73,67,51,66,65,60,74,66,71,58,53,70,44,70,69,53,60,50,55,43,33,46,46,74,45,68,34,67,37,74,37,45,40,61,52,39,47,62,35,75,52,70,65,82,50,63,53,43,60,36,46,63,47,71,55,63,65,21,60,50,43,62,66,52,57,55,43,55,72,75,48,32,63,86,40,29,50,42,50,68,72,68,60,40,27,55,35,75,65,37,33,61,63,70,65,27,42,61,28,77,65,40,64,48,68,61,67,63,54,73,87,50,72,55,33,103,60,35,70,40,29,60,30,55,68,65,79,66,65,74,50,77,74,31,37,67,63,82,41,66,67,65,54,52,48,32,51,75,32,87,41,80,65,35,55,38,47,35,43,39,65,60,48,57,68,27,75,52,70,29,65,50,30,57,54,43,65,77,65,55,65,40,68,63,70,50,63,56,60,63,45,64,63,70,40,67,64,63,63,44,44,55,103,60,26,75,57,57,43,65,70,78,63,38,51,60,40,66,63,74,76,79,53,63,48,56,53,85,60,70,71,63,64,41,52,68,48,25,60,73,52,61,56,55,33,53,43,38,30,50,37,60,45,60,66,40,36,90,70,65,34,38,29,73,29,75,70,62,60,68,51,39,54,31,61,70,84,59,31,65,58,55,59,50,58,59,58,70,45,76,66,63,45,73,38,62,65,52,69,57,78,46,40,54,63,75,61,80,62,49,54,47,52,70,68,37,48,70,27,23,37,60,45,48,50,72,65,60,70,65,46,55,60,49,33,68,67,79,44,28,60,41,66,60,50,19,29,39,51,60,70,42,54,70,49,55,31,56,67,36,29,50,35,65,42,55,60,58,50,53,50,64,65,62,67,62,43,47,40,55,56,47,60,56,45,47,70,85,48,86,44,66,45,54,51],\"xaxis\":\"x\",\"yaxis\":\"y\",\"type\":\"histogram\"},{\"alignmentgroup\":\"True\",\"boxpoints\":\"all\",\"fillcolor\":\"rgba(255,255,255,0)\",\"hoveron\":\"points\",\"hovertemplate\":\"variable=age\\u003cbr\\u003evalue=%{x}\\u003cextra\\u003e\\u003c\\u002fextra\\u003e\",\"jitter\":0,\"legendgroup\":\"age\",\"line\":{\"color\":\"rgba(255,255,255,0)\"},\"marker\":{\"color\":\"#636efa\",\"symbol\":\"line-ns-open\"},\"name\":\"age\",\"offsetgroup\":\"age\",\"showlegend\":false,\"x\":[64,21,55,64,55,58,32,63,44,67,44,63,64,54,47,61,86,45,37,45,60,48,52,30,50,72,42,72,47,63,54,35,68,56,50,64,65,64,50,34,44,50,50,55,63,58,40,45,46,38,47,40,63,57,28,50,49,29,80,45,47,90,45,45,61,54,62,65,45,46,52,58,61,54,52,57,47,58,50,65,53,80,50,72,62,58,40,45,80,61,65,62,60,60,75,66,40,19,58,77,71,53,43,66,67,51,50,67,59,20,55,36,38,57,45,62,43,66,60,67,65,60,49,60,80,47,45,38,71,60,30,60,70,78,63,57,67,67,56,43,45,50,64,63,60,53,60,44,50,69,45,55,58,50,55,70,70,73,68,41,82,32,57,50,60,67,50,60,46,46,55,55,75,40,45,68,55,50,50,68,60,55,61,51,30,66,62,70,60,78,58,58,46,58,46,63,57,51,50,45,47,75,48,25,48,52,63,60,49,60,52,55,60,65,55,45,67,45,53,67,60,63,55,63,75,63,48,70,44,25,62,50,51,56,55,60,63,45,54,63,36,26,41,65,65,59,57,53,50,72,75,75,68,66,67,76,58,62,62,44,64,52,60,60,53,63,63,33,50,60,61,70,49,38,39,68,41,38,63,54,50,68,53,70,36,65,50,44,63,53,68,63,50,50,58,63,70,91,60,65,42,51,65,41,75,58,42,72,60,58,62,63,60,78,53,49,70,21,50,65,55,26,66,75,45,55,55,86,60,31,34,46,75,62,33,70,53,48,70,75,56,50,56,70,60,29,60,70,50,62,41,69,63,68,63,43,61,55,65,63,56,73,74,55,65,90,65,63,59,78,54,68,59,65,78,62,58,55,78,45,29,50,68,31,53,64,64,68,65,67,60,65,65,66,65,63,50,49,39,61,52,28,66,78,72,52,75,28,80,70,70,74,65,48,55,56,54,63,56,45,41,80,40,80,60,60,21,58,21,44,62,60,63,60,61,65,42,65,60,45,52,59,46,35,64,30,55,50,46,50,58,63,62,71,65,63,43,65,55,65,44,55,45,72,63,63,60,60,70,45,60,75,31,64,41,58,70,62,55,75,77,73,71,70,60,73,63,72,40,40,59,37,42,28,37,41,50,55,53,51,19,59,68,70,69,45,70,55,55,65,52,50,55,42,72,56,60,22,63,52,51,40,70,63,63,49,70,63,47,43,31,50,53,22,42,55,50,53,52,73,55,44,65,60,56,58,72,56,65,32,32,62,50,65,47,55,60,55,35,60,60,50,70,70,51,59,61,70,66,63,71,42,72,68,37,52,68,41,60,37,32,66,60,44,60,52,60,60,42,79,55,52,50,58,60,35,82,29,42,71,55,78,45,73,20,50,47,62,50,74,50,73,56,69,52,22,73,60,73,58,70,65,47,55,54,42,48,45,60,73,61,71,45,72,60,50,60,50,48,58,58,60,34,43,45,47,70,70,51,60,64,70,70,70,43,72,34,35,53,50,60,64,47,81,62,27,53,65,36,60,51,57,58,47,70,74,75,76,63,43,29,60,68,47,75,39,70,78,45,55,55,36,58,60,35,70,69,51,63,65,66,44,34,48,73,83,37,48,42,60,55,47,56,75,60,60,60,70,68,70,49,52,53,36,52,36,40,56,60,53,49,73,60,46,45,65,54,63,59,60,60,29,63,49,70,44,68,24,38,62,80,34,49,49,81,55,48,39,66,73,69,55,45,70,60,70,58,42,58,49,70,76,50,70,40,85,45,67,75,64,50,78,73,86,41,75,55,38,52,74,28,48,40,56,88,70,49,75,56,79,47,53,41,49,70,59,40,70,65,50,70,67,71,38,50,71,60,60,37,72,58,70,70,24,57,57,47,50,70,70,41,72,83,76,41,76,50,63,64,39,30,77,63,60,56,41,43,54,69,60,29,65,57,50,41,65,85,58,75,70,54,63,44,60,49,77,70,75,60,33,60,50,70,65,48,47,48,60,48,48,60,54,60,56,60,60,35,25,71,65,57,56,53,54,66,68,100,23,60,14,57,71,70,51,46,60,49,47,48,85,45,74,51,55,55,54,64,68,27,47,28,41,62,69,73,67,51,66,65,60,74,66,71,58,53,70,44,70,69,53,60,50,55,43,33,46,46,74,45,68,34,67,37,74,37,45,40,61,52,39,47,62,35,75,52,70,65,82,50,63,53,43,60,36,46,63,47,71,55,63,65,21,60,50,43,62,66,52,57,55,43,55,72,75,48,32,63,86,40,29,50,42,50,68,72,68,60,40,27,55,35,75,65,37,33,61,63,70,65,27,42,61,28,77,65,40,64,48,68,61,67,63,54,73,87,50,72,55,33,103,60,35,70,40,29,60,30,55,68,65,79,66,65,74,50,77,74,31,37,67,63,82,41,66,67,65,54,52,48,32,51,75,32,87,41,80,65,35,55,38,47,35,43,39,65,60,48,57,68,27,75,52,70,29,65,50,30,57,54,43,65,77,65,55,65,40,68,63,70,50,63,56,60,63,45,64,63,70,40,67,64,63,63,44,44,55,103,60,26,75,57,57,43,65,70,78,63,38,51,60,40,66,63,74,76,79,53,63,48,56,53,85,60,70,71,63,64,41,52,68,48,25,60,73,52,61,56,55,33,53,43,38,30,50,37,60,45,60,66,40,36,90,70,65,34,38,29,73,29,75,70,62,60,68,51,39,54,31,61,70,84,59,31,65,58,55,59,50,58,59,58,70,45,76,66,63,45,73,38,62,65,52,69,57,78,46,40,54,63,75,61,80,62,49,54,47,52,70,68,37,48,70,27,23,37,60,45,48,50,72,65,60,70,65,46,55,60,49,33,68,67,79,44,28,60,41,66,60,50,19,29,39,51,60,70,42,54,70,49,55,31,56,67,36,29,50,35,65,42,55,60,58,50,53,50,64,65,62,67,62,43,47,40,55,56,47,60,56,45,47,70,85,48,86,44,66,45,54,51],\"xaxis\":\"x2\",\"yaxis\":\"y2\",\"type\":\"box\"}],                        {\"template\":{\"data\":{\"histogram2dcontour\":[{\"type\":\"histogram2dcontour\",\"colorbar\":{\"outlinewidth\":0,\"ticks\":\"\"},\"colorscale\":[[0.0,\"#0d0887\"],[0.1111111111111111,\"#46039f\"],[0.2222222222222222,\"#7201a8\"],[0.3333333333333333,\"#9c179e\"],[0.4444444444444444,\"#bd3786\"],[0.5555555555555556,\"#d8576b\"],[0.6666666666666666,\"#ed7953\"],[0.7777777777777778,\"#fb9f3a\"],[0.8888888888888888,\"#fdca26\"],[1.0,\"#f0f921\"]]}],\"choropleth\":[{\"type\":\"choropleth\",\"colorbar\":{\"outlinewidth\":0,\"ticks\":\"\"}}],\"histogram2d\":[{\"type\":\"histogram2d\",\"colorbar\":{\"outlinewidth\":0,\"ticks\":\"\"},\"colorscale\":[[0.0,\"#0d0887\"],[0.1111111111111111,\"#46039f\"],[0.2222222222222222,\"#7201a8\"],[0.3333333333333333,\"#9c179e\"],[0.4444444444444444,\"#bd3786\"],[0.5555555555555556,\"#d8576b\"],[0.6666666666666666,\"#ed7953\"],[0.7777777777777778,\"#fb9f3a\"],[0.8888888888888888,\"#fdca26\"],[1.0,\"#f0f921\"]]}],\"heatmap\":[{\"type\":\"heatmap\",\"colorbar\":{\"outlinewidth\":0,\"ticks\":\"\"},\"colorscale\":[[0.0,\"#0d0887\"],[0.1111111111111111,\"#46039f\"],[0.2222222222222222,\"#7201a8\"],[0.3333333333333333,\"#9c179e\"],[0.4444444444444444,\"#bd3786\"],[0.5555555555555556,\"#d8576b\"],[0.6666666666666666,\"#ed7953\"],[0.7777777777777778,\"#fb9f3a\"],[0.8888888888888888,\"#fdca26\"],[1.0,\"#f0f921\"]]}],\"heatmapgl\":[{\"type\":\"heatmapgl\",\"colorbar\":{\"outlinewidth\":0,\"ticks\":\"\"},\"colorscale\":[[0.0,\"#0d0887\"],[0.1111111111111111,\"#46039f\"],[0.2222222222222222,\"#7201a8\"],[0.3333333333333333,\"#9c179e\"],[0.4444444444444444,\"#bd3786\"],[0.5555555555555556,\"#d8576b\"],[0.6666666666666666,\"#ed7953\"],[0.7777777777777778,\"#fb9f3a\"],[0.8888888888888888,\"#fdca26\"],[1.0,\"#f0f921\"]]}],\"contourcarpet\":[{\"type\":\"contourcarpet\",\"colorbar\":{\"outlinewidth\":0,\"ticks\":\"\"}}],\"contour\":[{\"type\":\"contour\",\"colorbar\":{\"outlinewidth\":0,\"ticks\":\"\"},\"colorscale\":[[0.0,\"#0d0887\"],[0.1111111111111111,\"#46039f\"],[0.2222222222222222,\"#7201a8\"],[0.3333333333333333,\"#9c179e\"],[0.4444444444444444,\"#bd3786\"],[0.5555555555555556,\"#d8576b\"],[0.6666666666666666,\"#ed7953\"],[0.7777777777777778,\"#fb9f3a\"],[0.8888888888888888,\"#fdca26\"],[1.0,\"#f0f921\"]]}],\"surface\":[{\"type\":\"surface\",\"colorbar\":{\"outlinewidth\":0,\"ticks\":\"\"},\"colorscale\":[[0.0,\"#0d0887\"],[0.1111111111111111,\"#46039f\"],[0.2222222222222222,\"#7201a8\"],[0.3333333333333333,\"#9c179e\"],[0.4444444444444444,\"#bd3786\"],[0.5555555555555556,\"#d8576b\"],[0.6666666666666666,\"#ed7953\"],[0.7777777777777778,\"#fb9f3a\"],[0.8888888888888888,\"#fdca26\"],[1.0,\"#f0f921\"]]}],\"mesh3d\":[{\"type\":\"mesh3d\",\"colorbar\":{\"outlinewidth\":0,\"ticks\":\"\"}}],\"scatter\":[{\"fillpattern\":{\"fillmode\":\"overlay\",\"size\":10,\"solidity\":0.2},\"type\":\"scatter\"}],\"parcoords\":[{\"type\":\"parcoords\",\"line\":{\"colorbar\":{\"outlinewidth\":0,\"ticks\":\"\"}}}],\"scatterpolargl\":[{\"type\":\"scatterpolargl\",\"marker\":{\"colorbar\":{\"outlinewidth\":0,\"ticks\":\"\"}}}],\"bar\":[{\"error_x\":{\"color\":\"#2a3f5f\"},\"error_y\":{\"color\":\"#2a3f5f\"},\"marker\":{\"line\":{\"color\":\"#E5ECF6\",\"width\":0.5},\"pattern\":{\"fillmode\":\"overlay\",\"size\":10,\"solidity\":0.2}},\"type\":\"bar\"}],\"scattergeo\":[{\"type\":\"scattergeo\",\"marker\":{\"colorbar\":{\"outlinewidth\":0,\"ticks\":\"\"}}}],\"scatterpolar\":[{\"type\":\"scatterpolar\",\"marker\":{\"colorbar\":{\"outlinewidth\":0,\"ticks\":\"\"}}}],\"histogram\":[{\"marker\":{\"pattern\":{\"fillmode\":\"overlay\",\"size\":10,\"solidity\":0.2}},\"type\":\"histogram\"}],\"scattergl\":[{\"type\":\"scattergl\",\"marker\":{\"colorbar\":{\"outlinewidth\":0,\"ticks\":\"\"}}}],\"scatter3d\":[{\"type\":\"scatter3d\",\"line\":{\"colorbar\":{\"outlinewidth\":0,\"ticks\":\"\"}},\"marker\":{\"colorbar\":{\"outlinewidth\":0,\"ticks\":\"\"}}}],\"scattermapbox\":[{\"type\":\"scattermapbox\",\"marker\":{\"colorbar\":{\"outlinewidth\":0,\"ticks\":\"\"}}}],\"scatterternary\":[{\"type\":\"scatterternary\",\"marker\":{\"colorbar\":{\"outlinewidth\":0,\"ticks\":\"\"}}}],\"scattercarpet\":[{\"type\":\"scattercarpet\",\"marker\":{\"colorbar\":{\"outlinewidth\":0,\"ticks\":\"\"}}}],\"carpet\":[{\"aaxis\":{\"endlinecolor\":\"#2a3f5f\",\"gridcolor\":\"white\",\"linecolor\":\"white\",\"minorgridcolor\":\"white\",\"startlinecolor\":\"#2a3f5f\"},\"baxis\":{\"endlinecolor\":\"#2a3f5f\",\"gridcolor\":\"white\",\"linecolor\":\"white\",\"minorgridcolor\":\"white\",\"startlinecolor\":\"#2a3f5f\"},\"type\":\"carpet\"}],\"table\":[{\"cells\":{\"fill\":{\"color\":\"#EBF0F8\"},\"line\":{\"color\":\"white\"}},\"header\":{\"fill\":{\"color\":\"#C8D4E3\"},\"line\":{\"color\":\"white\"}},\"type\":\"table\"}],\"barpolar\":[{\"marker\":{\"line\":{\"color\":\"#E5ECF6\",\"width\":0.5},\"pattern\":{\"fillmode\":\"overlay\",\"size\":10,\"solidity\":0.2}},\"type\":\"barpolar\"}],\"pie\":[{\"automargin\":true,\"type\":\"pie\"}]},\"layout\":{\"autotypenumbers\":\"strict\",\"colorway\":[\"#636efa\",\"#EF553B\",\"#00cc96\",\"#ab63fa\",\"#FFA15A\",\"#19d3f3\",\"#FF6692\",\"#B6E880\",\"#FF97FF\",\"#FECB52\"],\"font\":{\"color\":\"#2a3f5f\"},\"hovermode\":\"closest\",\"hoverlabel\":{\"align\":\"left\"},\"paper_bgcolor\":\"white\",\"plot_bgcolor\":\"#E5ECF6\",\"polar\":{\"bgcolor\":\"#E5ECF6\",\"angularaxis\":{\"gridcolor\":\"white\",\"linecolor\":\"white\",\"ticks\":\"\"},\"radialaxis\":{\"gridcolor\":\"white\",\"linecolor\":\"white\",\"ticks\":\"\"}},\"ternary\":{\"bgcolor\":\"#E5ECF6\",\"aaxis\":{\"gridcolor\":\"white\",\"linecolor\":\"white\",\"ticks\":\"\"},\"baxis\":{\"gridcolor\":\"white\",\"linecolor\":\"white\",\"ticks\":\"\"},\"caxis\":{\"gridcolor\":\"white\",\"linecolor\":\"white\",\"ticks\":\"\"}},\"coloraxis\":{\"colorbar\":{\"outlinewidth\":0,\"ticks\":\"\"}},\"colorscale\":{\"sequential\":[[0.0,\"#0d0887\"],[0.1111111111111111,\"#46039f\"],[0.2222222222222222,\"#7201a8\"],[0.3333333333333333,\"#9c179e\"],[0.4444444444444444,\"#bd3786\"],[0.5555555555555556,\"#d8576b\"],[0.6666666666666666,\"#ed7953\"],[0.7777777777777778,\"#fb9f3a\"],[0.8888888888888888,\"#fdca26\"],[1.0,\"#f0f921\"]],\"sequentialminus\":[[0.0,\"#0d0887\"],[0.1111111111111111,\"#46039f\"],[0.2222222222222222,\"#7201a8\"],[0.3333333333333333,\"#9c179e\"],[0.4444444444444444,\"#bd3786\"],[0.5555555555555556,\"#d8576b\"],[0.6666666666666666,\"#ed7953\"],[0.7777777777777778,\"#fb9f3a\"],[0.8888888888888888,\"#fdca26\"],[1.0,\"#f0f921\"]],\"diverging\":[[0,\"#8e0152\"],[0.1,\"#c51b7d\"],[0.2,\"#de77ae\"],[0.3,\"#f1b6da\"],[0.4,\"#fde0ef\"],[0.5,\"#f7f7f7\"],[0.6,\"#e6f5d0\"],[0.7,\"#b8e186\"],[0.8,\"#7fbc41\"],[0.9,\"#4d9221\"],[1,\"#276419\"]]},\"xaxis\":{\"gridcolor\":\"white\",\"linecolor\":\"white\",\"ticks\":\"\",\"title\":{\"standoff\":15},\"zerolinecolor\":\"white\",\"automargin\":true,\"zerolinewidth\":2},\"yaxis\":{\"gridcolor\":\"white\",\"linecolor\":\"white\",\"ticks\":\"\",\"title\":{\"standoff\":15},\"zerolinecolor\":\"white\",\"automargin\":true,\"zerolinewidth\":2},\"scene\":{\"xaxis\":{\"backgroundcolor\":\"#E5ECF6\",\"gridcolor\":\"white\",\"linecolor\":\"white\",\"showbackground\":true,\"ticks\":\"\",\"zerolinecolor\":\"white\",\"gridwidth\":2},\"yaxis\":{\"backgroundcolor\":\"#E5ECF6\",\"gridcolor\":\"white\",\"linecolor\":\"white\",\"showbackground\":true,\"ticks\":\"\",\"zerolinecolor\":\"white\",\"gridwidth\":2},\"zaxis\":{\"backgroundcolor\":\"#E5ECF6\",\"gridcolor\":\"white\",\"linecolor\":\"white\",\"showbackground\":true,\"ticks\":\"\",\"zerolinecolor\":\"white\",\"gridwidth\":2}},\"shapedefaults\":{\"line\":{\"color\":\"#2a3f5f\"}},\"annotationdefaults\":{\"arrowcolor\":\"#2a3f5f\",\"arrowhead\":0,\"arrowwidth\":1},\"geo\":{\"bgcolor\":\"white\",\"landcolor\":\"#E5ECF6\",\"subunitcolor\":\"white\",\"showland\":true,\"showlakes\":true,\"lakecolor\":\"white\"},\"title\":{\"x\":0.05},\"mapbox\":{\"style\":\"light\"}}},\"xaxis\":{\"anchor\":\"y\",\"domain\":[0.0,1.0],\"title\":{\"text\":\"value\"}},\"yaxis\":{\"anchor\":\"x\",\"domain\":[0.0,0.7326],\"title\":{\"text\":\"count\"}},\"xaxis2\":{\"anchor\":\"y2\",\"domain\":[0.0,1.0],\"matches\":\"x\",\"showticklabels\":false,\"showgrid\":true},\"yaxis2\":{\"anchor\":\"x2\",\"domain\":[0.7426,1.0],\"matches\":\"y2\",\"showticklabels\":false,\"showline\":false,\"ticks\":\"\",\"showgrid\":false},\"legend\":{\"title\":{\"text\":\"variable\"},\"tracegroupgap\":0},\"margin\":{\"t\":60},\"barmode\":\"relative\"},                        {\"responsive\": true}                    ).then(function(){\n",
       "                            \n",
       "var gd = document.getElementById('8eb5a897-5efa-4800-8fa8-faa4723d1bd1');\n",
       "var x = new MutationObserver(function (mutations, observer) {{\n",
       "        var display = window.getComputedStyle(gd).display;\n",
       "        if (!display || display === 'none') {{\n",
       "            console.log([gd, 'removed!']);\n",
       "            Plotly.purge(gd);\n",
       "            observer.disconnect();\n",
       "        }}\n",
       "}});\n",
       "\n",
       "// Listen for the removal of the full notebook cells\n",
       "var notebookContainer = gd.closest('#notebook-container');\n",
       "if (notebookContainer) {{\n",
       "    x.observe(notebookContainer, {childList: true});\n",
       "}}\n",
       "\n",
       "// Listen for the clearing of the current output cell\n",
       "var outputEl = gd.closest('.output');\n",
       "if (outputEl) {{\n",
       "    x.observe(outputEl, {childList: true});\n",
       "}}\n",
       "\n",
       "                        })                };                });            </script>        </div>"
      ]
     },
     "metadata": {},
     "output_type": "display_data"
    }
   ],
   "source": [
    "# Plot age distribution\n",
    "fig = px.histogram(heart_source.age, marginal=\"rug\")\n",
    "fig.show()"
   ]
  },
  {
   "cell_type": "code",
   "execution_count": 6,
   "id": "6cf46c1b",
   "metadata": {
    "execution": {
     "iopub.execute_input": "2023-07-29T02:25:24.448352Z",
     "iopub.status.busy": "2023-07-29T02:25:24.447748Z",
     "iopub.status.idle": "2023-07-29T02:25:25.173600Z",
     "shell.execute_reply": "2023-07-29T02:25:25.172785Z"
    },
    "papermill": {
     "duration": 0.737352,
     "end_time": "2023-07-29T02:25:25.175742",
     "exception": false,
     "start_time": "2023-07-29T02:25:24.438390",
     "status": "completed"
    },
    "tags": []
   },
   "outputs": [
    {
     "name": "stderr",
     "output_type": "stream",
     "text": [
      "/tmp/ipykernel_21/1439161542.py:2: FutureWarning:\n",
      "\n",
      "The default value of numeric_only in DataFrame.corr is deprecated. In a future version, it will default to False. Select only valid columns or specify the value of numeric_only to silence this warning.\n",
      "\n"
     ]
    },
    {
     "data": {
      "image/png": "[encoded data removed]",
      "text/plain": [
       "<Figure size 1000x1000 with 2 Axes>"
      ]
     },
     "metadata": {},
     "output_type": "display_data"
    }
   ],
   "source": [
    "# Create the correlation matrix\n",
    "corr = heart_source.corr()\n",
    "\n",
    "# Create the heatmap\n",
    "plt.figure(figsize=(10, 10))\n",
    "sns.heatmap(corr, annot=True, cmap=\"YlGnBu\")\n",
    "plt.show()"
   ]
  },
  {
   "cell_type": "markdown",
   "id": "8acfd12f",
   "metadata": {
    "papermill": {
     "duration": 0.009662,
     "end_time": "2023-07-29T02:25:25.195142",
     "exception": false,
     "start_time": "2023-07-29T02:25:25.185480",
     "status": "completed"
    },
    "tags": []
   },
   "source": [
    "## May need to clean the dataset for ML safe reason "
   ]
  },
  {
   "cell_type": "code",
   "execution_count": 7,
   "id": "25e3c547",
   "metadata": {
    "execution": {
     "iopub.execute_input": "2023-07-29T02:25:25.216858Z",
     "iopub.status.busy": "2023-07-29T02:25:25.215851Z",
     "iopub.status.idle": "2023-07-29T02:25:25.231347Z",
     "shell.execute_reply": "2023-07-29T02:25:25.230145Z"
    },
    "papermill": {
     "duration": 0.02847,
     "end_time": "2023-07-29T02:25:25.233434",
     "exception": false,
     "start_time": "2023-07-29T02:25:25.204964",
     "status": "completed"
    },
    "tags": []
   },
   "outputs": [
    {
     "name": "stdout",
     "output_type": "stream",
     "text": [
      "<class 'pandas.core.frame.DataFrame'>\n",
      "RangeIndex: 1319 entries, 0 to 1318\n",
      "Data columns (total 9 columns):\n",
      " #   Column         Non-Null Count  Dtype  \n",
      "---  ------         --------------  -----  \n",
      " 0   age            1319 non-null   int64  \n",
      " 1   gender         1319 non-null   int64  \n",
      " 2   impluse        1319 non-null   int64  \n",
      " 3   pressurehight  1319 non-null   int64  \n",
      " 4   pressurelow    1319 non-null   int64  \n",
      " 5   glucose        1319 non-null   float64\n",
      " 6   kcm            1319 non-null   float64\n",
      " 7   troponin       1319 non-null   float64\n",
      " 8   class          1319 non-null   object \n",
      "dtypes: float64(3), int64(5), object(1)\n",
      "memory usage: 92.9+ KB\n"
     ]
    }
   ],
   "source": [
    "heart_source.info()"
   ]
  },
  {
   "cell_type": "markdown",
   "id": "98ede728",
   "metadata": {
    "papermill": {
     "duration": 0.010082,
     "end_time": "2023-07-29T02:25:25.253563",
     "exception": false,
     "start_time": "2023-07-29T02:25:25.243481",
     "status": "completed"
    },
    "tags": []
   },
   "source": [
    "## Use fastai tabular learner"
   ]
  },
  {
   "cell_type": "code",
   "execution_count": 8,
   "id": "e21746f6",
   "metadata": {
    "execution": {
     "iopub.execute_input": "2023-07-29T02:25:25.275851Z",
     "iopub.status.busy": "2023-07-29T02:25:25.275146Z",
     "iopub.status.idle": "2023-07-29T02:25:29.316404Z",
     "shell.execute_reply": "2023-07-29T02:25:29.315373Z"
    },
    "papermill": {
     "duration": 4.055855,
     "end_time": "2023-07-29T02:25:29.319404",
     "exception": false,
     "start_time": "2023-07-29T02:25:25.263549",
     "status": "completed"
    },
    "tags": []
   },
   "outputs": [],
   "source": [
    "from fastai.tabular.all import *"
   ]
  },
  {
   "cell_type": "code",
   "execution_count": 9,
   "id": "fd20f087",
   "metadata": {
    "execution": {
     "iopub.execute_input": "2023-07-29T02:25:29.342445Z",
     "iopub.status.busy": "2023-07-29T02:25:29.341803Z",
     "iopub.status.idle": "2023-07-29T02:25:29.347300Z",
     "shell.execute_reply": "2023-07-29T02:25:29.346057Z"
    },
    "papermill": {
     "duration": 0.019602,
     "end_time": "2023-07-29T02:25:29.349748",
     "exception": false,
     "start_time": "2023-07-29T02:25:29.330146",
     "status": "completed"
    },
    "tags": []
   },
   "outputs": [],
   "source": [
    "path = Path('/kaggle/input/heart-disease-classification-dataset')\n",
    "cat_names = ['gender']\n",
    "cont_names = ['age', 'impluse', 'pressurehight', \n",
    "              'pressurelow', 'glucose', 'kcm', 'troponin']"
   ]
  },
  {
   "cell_type": "code",
   "execution_count": 10,
   "id": "a00b3f1f",
   "metadata": {
    "execution": {
     "iopub.execute_input": "2023-07-29T02:25:29.371162Z",
     "iopub.status.busy": "2023-07-29T02:25:29.370514Z",
     "iopub.status.idle": "2023-07-29T02:25:29.483474Z",
     "shell.execute_reply": "2023-07-29T02:25:29.482294Z"
    },
    "papermill": {
     "duration": 0.126535,
     "end_time": "2023-07-29T02:25:29.486120",
     "exception": false,
     "start_time": "2023-07-29T02:25:29.359585",
     "status": "completed"
    },
    "tags": []
   },
   "outputs": [],
   "source": [
    "dls = TabularDataLoaders.from_csv(\n",
    "    path/'Heart Attack.csv', path=path, \n",
    "    y_names = \"class\",\n",
    "    cat_names = cat_names,\n",
    "    cont_names = cont_names,\n",
    "    splits = RandomSplitter(valid_pct=0.2)(range_of(heart_source)),\n",
    "    shuffle = True,\n",
    "    bs = 64,\n",
    "    procs = [Categorify, FillMissing, Normalize]\n",
    ")"
   ]
  },
  {
   "cell_type": "code",
   "execution_count": 11,
   "id": "282c7ef1",
   "metadata": {
    "execution": {
     "iopub.execute_input": "2023-07-29T02:25:29.508022Z",
     "iopub.status.busy": "2023-07-29T02:25:29.507603Z",
     "iopub.status.idle": "2023-07-29T02:25:29.548756Z",
     "shell.execute_reply": "2023-07-29T02:25:29.547590Z"
    },
    "papermill": {
     "duration": 0.054839,
     "end_time": "2023-07-29T02:25:29.551167",
     "exception": false,
     "start_time": "2023-07-29T02:25:29.496328",
     "status": "completed"
    },
    "tags": []
   },
   "outputs": [
    {
     "data": {
      "text/html": [
       "<table border=\"1\" class=\"dataframe\">\n",
       "  <thead>\n",
       "    <tr style=\"text-align: right;\">\n",
       "      <th></th>\n",
       "      <th>gender</th>\n",
       "      <th>age</th>\n",
       "      <th>impluse</th>\n",
       "      <th>pressurehight</th>\n",
       "      <th>pressurelow</th>\n",
       "      <th>glucose</th>\n",
       "      <th>kcm</th>\n",
       "      <th>troponin</th>\n",
       "      <th>class</th>\n",
       "    </tr>\n",
       "  </thead>\n",
       "  <tbody>\n",
       "    <tr>\n",
       "      <th>0</th>\n",
       "      <td>1</td>\n",
       "      <td>57.000000</td>\n",
       "      <td>82.000000</td>\n",
       "      <td>138.000000</td>\n",
       "      <td>93.000001</td>\n",
       "      <td>297.000000</td>\n",
       "      <td>6.750000</td>\n",
       "      <td>0.020</td>\n",
       "      <td>positive</td>\n",
       "    </tr>\n",
       "    <tr>\n",
       "      <th>1</th>\n",
       "      <td>0</td>\n",
       "      <td>51.000000</td>\n",
       "      <td>70.000000</td>\n",
       "      <td>140.000000</td>\n",
       "      <td>89.999999</td>\n",
       "      <td>150.000000</td>\n",
       "      <td>1.810000</td>\n",
       "      <td>0.013</td>\n",
       "      <td>negative</td>\n",
       "    </tr>\n",
       "    <tr>\n",
       "      <th>2</th>\n",
       "      <td>1</td>\n",
       "      <td>45.000000</td>\n",
       "      <td>95.999999</td>\n",
       "      <td>97.000000</td>\n",
       "      <td>55.000000</td>\n",
       "      <td>144.000000</td>\n",
       "      <td>2.870000</td>\n",
       "      <td>1.480</td>\n",
       "      <td>positive</td>\n",
       "    </tr>\n",
       "    <tr>\n",
       "      <th>3</th>\n",
       "      <td>1</td>\n",
       "      <td>57.000000</td>\n",
       "      <td>88.000000</td>\n",
       "      <td>110.000001</td>\n",
       "      <td>70.000000</td>\n",
       "      <td>83.000000</td>\n",
       "      <td>40.990002</td>\n",
       "      <td>7.670</td>\n",
       "      <td>positive</td>\n",
       "    </tr>\n",
       "    <tr>\n",
       "      <th>4</th>\n",
       "      <td>1</td>\n",
       "      <td>58.000000</td>\n",
       "      <td>75.000000</td>\n",
       "      <td>116.000000</td>\n",
       "      <td>73.000000</td>\n",
       "      <td>108.000000</td>\n",
       "      <td>27.309999</td>\n",
       "      <td>0.049</td>\n",
       "      <td>positive</td>\n",
       "    </tr>\n",
       "    <tr>\n",
       "      <th>5</th>\n",
       "      <td>0</td>\n",
       "      <td>31.000000</td>\n",
       "      <td>64.000000</td>\n",
       "      <td>130.000000</td>\n",
       "      <td>70.000000</td>\n",
       "      <td>263.000003</td>\n",
       "      <td>142.600003</td>\n",
       "      <td>0.003</td>\n",
       "      <td>positive</td>\n",
       "    </tr>\n",
       "    <tr>\n",
       "      <th>6</th>\n",
       "      <td>0</td>\n",
       "      <td>46.000000</td>\n",
       "      <td>76.000000</td>\n",
       "      <td>169.000001</td>\n",
       "      <td>95.000001</td>\n",
       "      <td>152.000000</td>\n",
       "      <td>2.190000</td>\n",
       "      <td>0.006</td>\n",
       "      <td>negative</td>\n",
       "    </tr>\n",
       "    <tr>\n",
       "      <th>7</th>\n",
       "      <td>1</td>\n",
       "      <td>70.000001</td>\n",
       "      <td>112.000001</td>\n",
       "      <td>169.999999</td>\n",
       "      <td>104.000001</td>\n",
       "      <td>111.000000</td>\n",
       "      <td>1.200000</td>\n",
       "      <td>1.380</td>\n",
       "      <td>positive</td>\n",
       "    </tr>\n",
       "    <tr>\n",
       "      <th>8</th>\n",
       "      <td>0</td>\n",
       "      <td>80.000000</td>\n",
       "      <td>59.000000</td>\n",
       "      <td>137.000000</td>\n",
       "      <td>81.000000</td>\n",
       "      <td>93.000000</td>\n",
       "      <td>2.410000</td>\n",
       "      <td>0.013</td>\n",
       "      <td>negative</td>\n",
       "    </tr>\n",
       "    <tr>\n",
       "      <th>9</th>\n",
       "      <td>0</td>\n",
       "      <td>52.000000</td>\n",
       "      <td>71.000000</td>\n",
       "      <td>143.000000</td>\n",
       "      <td>71.000000</td>\n",
       "      <td>108.999999</td>\n",
       "      <td>5.650000</td>\n",
       "      <td>0.930</td>\n",
       "      <td>positive</td>\n",
       "    </tr>\n",
       "  </tbody>\n",
       "</table>"
      ],
      "text/plain": [
       "<IPython.core.display.HTML object>"
      ]
     },
     "metadata": {},
     "output_type": "display_data"
    }
   ],
   "source": [
    "dls.show_batch()"
   ]
  },
  {
   "cell_type": "code",
   "execution_count": 12,
   "id": "356a0f02",
   "metadata": {
    "execution": {
     "iopub.execute_input": "2023-07-29T02:25:29.573829Z",
     "iopub.status.busy": "2023-07-29T02:25:29.573445Z",
     "iopub.status.idle": "2023-07-29T02:25:29.611720Z",
     "shell.execute_reply": "2023-07-29T02:25:29.610676Z"
    },
    "papermill": {
     "duration": 0.052723,
     "end_time": "2023-07-29T02:25:29.614480",
     "exception": false,
     "start_time": "2023-07-29T02:25:29.561757",
     "status": "completed"
    },
    "tags": []
   },
   "outputs": [],
   "source": [
    "learn = tabular_learner(dls, metrics = accuracy)"
   ]
  },
  {
   "cell_type": "code",
   "execution_count": 13,
   "id": "3e24d40b",
   "metadata": {
    "execution": {
     "iopub.execute_input": "2023-07-29T02:25:29.637544Z",
     "iopub.status.busy": "2023-07-29T02:25:29.637159Z",
     "iopub.status.idle": "2023-07-29T02:25:31.028081Z",
     "shell.execute_reply": "2023-07-29T02:25:31.026984Z"
    },
    "papermill": {
     "duration": 1.405497,
     "end_time": "2023-07-29T02:25:31.030559",
     "exception": false,
     "start_time": "2023-07-29T02:25:29.625062",
     "status": "completed"
    },
    "tags": []
   },
   "outputs": [
    {
     "data": {
      "text/html": [
       "\n",
       "<style>\n",
       "    /* Turns off some styling */\n",
       "    progress {\n",
       "        /* gets rid of default border in Firefox and Opera. */\n",
       "        border: none;\n",
       "        /* Needs to be in here for Safari polyfill so background images work as expected. */\n",
       "        background-size: auto;\n",
       "    }\n",
       "    progress:not([value]), progress:not([value])::-webkit-progress-bar {\n",
       "        background: repeating-linear-gradient(45deg, #7e7e7e, #7e7e7e 10px, #5c5c5c 10px, #5c5c5c 20px);\n",
       "    }\n",
       "    .progress-bar-interrupted, .progress-bar-interrupted::-webkit-progress-bar {\n",
       "        background: #F44336;\n",
       "    }\n",
       "</style>\n"
      ],
      "text/plain": [
       "<IPython.core.display.HTML object>"
      ]
     },
     "metadata": {},
     "output_type": "display_data"
    },
    {
     "data": {
      "text/html": [
       "<table border=\"1\" class=\"dataframe\">\n",
       "  <thead>\n",
       "    <tr style=\"text-align: left;\">\n",
       "      <th>epoch</th>\n",
       "      <th>train_loss</th>\n",
       "      <th>valid_loss</th>\n",
       "      <th>accuracy</th>\n",
       "      <th>time</th>\n",
       "    </tr>\n",
       "  </thead>\n",
       "  <tbody>\n",
       "    <tr>\n",
       "      <td>0</td>\n",
       "      <td>0.682513</td>\n",
       "      <td>0.647512</td>\n",
       "      <td>0.562738</td>\n",
       "      <td>00:00</td>\n",
       "    </tr>\n",
       "    <tr>\n",
       "      <td>1</td>\n",
       "      <td>0.621456</td>\n",
       "      <td>0.545834</td>\n",
       "      <td>0.733840</td>\n",
       "      <td>00:00</td>\n",
       "    </tr>\n",
       "    <tr>\n",
       "      <td>2</td>\n",
       "      <td>0.573642</td>\n",
       "      <td>0.495731</td>\n",
       "      <td>0.752852</td>\n",
       "      <td>00:00</td>\n",
       "    </tr>\n",
       "    <tr>\n",
       "      <td>3</td>\n",
       "      <td>0.535700</td>\n",
       "      <td>0.460331</td>\n",
       "      <td>0.741445</td>\n",
       "      <td>00:00</td>\n",
       "    </tr>\n",
       "    <tr>\n",
       "      <td>4</td>\n",
       "      <td>0.510033</td>\n",
       "      <td>0.456614</td>\n",
       "      <td>0.764259</td>\n",
       "      <td>00:00</td>\n",
       "    </tr>\n",
       "  </tbody>\n",
       "</table>"
      ],
      "text/plain": [
       "<IPython.core.display.HTML object>"
      ]
     },
     "metadata": {},
     "output_type": "display_data"
    }
   ],
   "source": [
    "learn.fit_one_cycle(5)"
   ]
  },
  {
   "cell_type": "markdown",
   "id": "74905947",
   "metadata": {
    "papermill": {
     "duration": 0.010508,
     "end_time": "2023-07-29T02:25:31.053089",
     "exception": false,
     "start_time": "2023-07-29T02:25:31.042581",
     "status": "completed"
    },
    "tags": []
   },
   "source": [
    "## sklearn decision tree"
   ]
  },
  {
   "cell_type": "code",
   "execution_count": 14,
   "id": "de977764",
   "metadata": {
    "execution": {
     "iopub.execute_input": "2023-07-29T02:25:31.076084Z",
     "iopub.status.busy": "2023-07-29T02:25:31.075618Z",
     "iopub.status.idle": "2023-07-29T02:25:31.336423Z",
     "shell.execute_reply": "2023-07-29T02:25:31.335241Z"
    },
    "papermill": {
     "duration": 0.275432,
     "end_time": "2023-07-29T02:25:31.339143",
     "exception": false,
     "start_time": "2023-07-29T02:25:31.063711",
     "status": "completed"
    },
    "tags": []
   },
   "outputs": [],
   "source": [
    "from sklearn.tree import DecisionTreeClassifier\n",
    "from sklearn.utils import shuffle\n",
    "from sklearn.model_selection import train_test_split\n",
    "from sklearn.metrics import accuracy_score\n"
   ]
  },
  {
   "cell_type": "code",
   "execution_count": 15,
   "id": "e29fe740",
   "metadata": {
    "execution": {
     "iopub.execute_input": "2023-07-29T02:25:31.362869Z",
     "iopub.status.busy": "2023-07-29T02:25:31.362460Z",
     "iopub.status.idle": "2023-07-29T02:25:31.380192Z",
     "shell.execute_reply": "2023-07-29T02:25:31.379254Z"
    },
    "papermill": {
     "duration": 0.032546,
     "end_time": "2023-07-29T02:25:31.382625",
     "exception": false,
     "start_time": "2023-07-29T02:25:31.350079",
     "status": "completed"
    },
    "tags": []
   },
   "outputs": [
    {
     "data": {
      "text/html": [
       "<div>\n",
       "<style scoped>\n",
       "    .dataframe tbody tr th:only-of-type {\n",
       "        vertical-align: middle;\n",
       "    }\n",
       "\n",
       "    .dataframe tbody tr th {\n",
       "        vertical-align: top;\n",
       "    }\n",
       "\n",
       "    .dataframe thead th {\n",
       "        text-align: right;\n",
       "    }\n",
       "</style>\n",
       "<table border=\"1\" class=\"dataframe\">\n",
       "  <thead>\n",
       "    <tr style=\"text-align: right;\">\n",
       "      <th></th>\n",
       "      <th>age</th>\n",
       "      <th>gender</th>\n",
       "      <th>impluse</th>\n",
       "      <th>pressurehight</th>\n",
       "      <th>pressurelow</th>\n",
       "      <th>glucose</th>\n",
       "      <th>kcm</th>\n",
       "      <th>troponin</th>\n",
       "    </tr>\n",
       "  </thead>\n",
       "  <tbody>\n",
       "    <tr>\n",
       "      <th>0</th>\n",
       "      <td>64</td>\n",
       "      <td>1</td>\n",
       "      <td>66</td>\n",
       "      <td>160</td>\n",
       "      <td>83</td>\n",
       "      <td>160.0</td>\n",
       "      <td>1.80</td>\n",
       "      <td>0.012</td>\n",
       "    </tr>\n",
       "    <tr>\n",
       "      <th>1</th>\n",
       "      <td>21</td>\n",
       "      <td>1</td>\n",
       "      <td>94</td>\n",
       "      <td>98</td>\n",
       "      <td>46</td>\n",
       "      <td>296.0</td>\n",
       "      <td>6.75</td>\n",
       "      <td>1.060</td>\n",
       "    </tr>\n",
       "    <tr>\n",
       "      <th>2</th>\n",
       "      <td>55</td>\n",
       "      <td>1</td>\n",
       "      <td>64</td>\n",
       "      <td>160</td>\n",
       "      <td>77</td>\n",
       "      <td>270.0</td>\n",
       "      <td>1.99</td>\n",
       "      <td>0.003</td>\n",
       "    </tr>\n",
       "    <tr>\n",
       "      <th>3</th>\n",
       "      <td>64</td>\n",
       "      <td>1</td>\n",
       "      <td>70</td>\n",
       "      <td>120</td>\n",
       "      <td>55</td>\n",
       "      <td>270.0</td>\n",
       "      <td>13.87</td>\n",
       "      <td>0.122</td>\n",
       "    </tr>\n",
       "    <tr>\n",
       "      <th>4</th>\n",
       "      <td>55</td>\n",
       "      <td>1</td>\n",
       "      <td>64</td>\n",
       "      <td>112</td>\n",
       "      <td>65</td>\n",
       "      <td>300.0</td>\n",
       "      <td>1.08</td>\n",
       "      <td>0.003</td>\n",
       "    </tr>\n",
       "  </tbody>\n",
       "</table>\n",
       "</div>"
      ],
      "text/plain": [
       "   age  gender  impluse  pressurehight  pressurelow  glucose    kcm  troponin\n",
       "0   64       1       66            160           83    160.0   1.80     0.012\n",
       "1   21       1       94             98           46    296.0   6.75     1.060\n",
       "2   55       1       64            160           77    270.0   1.99     0.003\n",
       "3   64       1       70            120           55    270.0  13.87     0.122\n",
       "4   55       1       64            112           65    300.0   1.08     0.003"
      ]
     },
     "execution_count": 15,
     "metadata": {},
     "output_type": "execute_result"
    }
   ],
   "source": [
    "heart_source.iloc[:,:-1].head()"
   ]
  },
  {
   "cell_type": "code",
   "execution_count": 16,
   "id": "64bbd18b",
   "metadata": {
    "execution": {
     "iopub.execute_input": "2023-07-29T02:25:31.406427Z",
     "iopub.status.busy": "2023-07-29T02:25:31.406025Z",
     "iopub.status.idle": "2023-07-29T02:25:31.413555Z",
     "shell.execute_reply": "2023-07-29T02:25:31.412664Z"
    },
    "papermill": {
     "duration": 0.022304,
     "end_time": "2023-07-29T02:25:31.415936",
     "exception": false,
     "start_time": "2023-07-29T02:25:31.393632",
     "status": "completed"
    },
    "tags": []
   },
   "outputs": [],
   "source": [
    "# Shuffle the dataset\n",
    "X, y = shuffle(heart_source.iloc[:,:-1], heart_source.iloc[:,-1], random_state=0)"
   ]
  },
  {
   "cell_type": "code",
   "execution_count": 17,
   "id": "0b410a11",
   "metadata": {
    "execution": {
     "iopub.execute_input": "2023-07-29T02:25:31.439543Z",
     "iopub.status.busy": "2023-07-29T02:25:31.439165Z",
     "iopub.status.idle": "2023-07-29T02:25:31.458123Z",
     "shell.execute_reply": "2023-07-29T02:25:31.456995Z"
    },
    "papermill": {
     "duration": 0.033433,
     "end_time": "2023-07-29T02:25:31.460429",
     "exception": false,
     "start_time": "2023-07-29T02:25:31.426996",
     "status": "completed"
    },
    "tags": []
   },
   "outputs": [
    {
     "name": "stdout",
     "output_type": "stream",
     "text": [
      "Accuracy: 0.9878787878787879\n"
     ]
    }
   ],
   "source": [
    "# Split the data into training and test sets\n",
    "X_train, X_test, y_train, y_test = train_test_split(X, y, random_state=0)\n",
    "\n",
    "# Create a decision tree classifier\n",
    "clf = DecisionTreeClassifier()\n",
    "\n",
    "# Fit the classifier to the training data\n",
    "clf.fit(X_train, y_train)\n",
    "\n",
    "# Predict the labels for the test data\n",
    "y_pred = clf.predict(X_test)\n",
    "\n",
    "# Evaluate the accuracy of the classifier\n",
    "accuracy = accuracy_score(y_test, y_pred)\n",
    "\n",
    "print(\"Accuracy:\", accuracy)\n"
   ]
  }
 ],
 "metadata": {
  "kernelspec": {
   "display_name": "Python 3",
   "language": "python",
   "name": "python3"
  },
  "language_info": {
   "codemirror_mode": {
    "name": "ipython",
    "version": 3
   },
   "file_extension": ".py",
   "mimetype": "text/x-python",
   "name": "python",
   "nbconvert_exporter": "python",
   "pygments_lexer": "ipython3",
   "version": "3.10.12"
  },
  "papermill": {
   "default_parameters": {},
   "duration": 23.408884,
   "end_time": "2023-07-29T02:25:33.095674",
   "environment_variables": {},
   "exception": null,
   "input_path": "__notebook__.ipynb",
   "output_path": "__notebook__.ipynb",
   "parameters": {},
   "start_time": "2023-07-29T02:25:09.686790",
   "version": "2.4.0"
  }
 },
 "nbformat": 4,
 "nbformat_minor": 5
}
